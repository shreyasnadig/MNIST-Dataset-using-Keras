{
  "nbformat": 4,
  "nbformat_minor": 0,
  "metadata": {
    "colab": {
      "name": "OCR: Handwritten Character Recognition using Keras",
      "version": "0.3.2",
      "provenance": [],
      "collapsed_sections": []
    },
    "kernelspec": {
      "name": "python3",
      "display_name": "Python 3"
    },
    "accelerator": "GPU"
  },
  "cells": [
    {
      "cell_type": "code",
      "metadata": {
        "id": "kUQuETGY6N_p",
        "colab_type": "code",
        "colab": {}
      },
      "source": [
        "import keras\n",
        "from keras.datasets import mnist\n",
        "from keras.models import Sequential\n",
        "from keras.layers import Dense\n",
        "import matplotlib.pyplot as plt"
      ],
      "execution_count": 0,
      "outputs": []
    },
    {
      "cell_type": "code",
      "metadata": {
        "id": "Ww-v1GDd6Q5p",
        "colab_type": "code",
        "colab": {}
      },
      "source": [
        "(x_train,y_train),(x_test,y_test)=mnist.load_data()\n",
        "x_train, x_test = x_train/255, x_test/255 "
      ],
      "execution_count": 0,
      "outputs": []
    },
    {
      "cell_type": "code",
      "metadata": {
        "id": "87NsaBsl6pX7",
        "colab_type": "code",
        "colab": {}
      },
      "source": [
        "x_train = x_train.reshape(-1,784)\n",
        "x_test = x_test.reshape(-1,784)"
      ],
      "execution_count": 0,
      "outputs": []
    },
    {
      "cell_type": "code",
      "metadata": {
        "id": "oxCjHvJs6suu",
        "colab_type": "code",
        "outputId": "92b8e2d6-2e7b-4334-b704-0f9b361f45d8",
        "colab": {
          "base_uri": "https://localhost:8080/",
          "height": 34
        }
      },
      "source": [
        "x_train.shape"
      ],
      "execution_count": 0,
      "outputs": [
        {
          "output_type": "execute_result",
          "data": {
            "text/plain": [
              "(60000, 784)"
            ]
          },
          "metadata": {
            "tags": []
          },
          "execution_count": 32
        }
      ]
    },
    {
      "cell_type": "code",
      "metadata": {
        "id": "yun7jXK27YAz",
        "colab_type": "code",
        "colab": {}
      },
      "source": [
        "model=Sequential()"
      ],
      "execution_count": 0,
      "outputs": []
    },
    {
      "cell_type": "code",
      "metadata": {
        "id": "XjdAm01P9yP6",
        "colab_type": "code",
        "outputId": "c9da927d-87bb-4220-c68e-58a01a5de6e6",
        "colab": {
          "base_uri": "https://localhost:8080/",
          "height": 34
        }
      },
      "source": [
        "x_train[0].shape"
      ],
      "execution_count": 0,
      "outputs": [
        {
          "output_type": "execute_result",
          "data": {
            "text/plain": [
              "(784,)"
            ]
          },
          "metadata": {
            "tags": []
          },
          "execution_count": 34
        }
      ]
    },
    {
      "cell_type": "code",
      "metadata": {
        "id": "kkXvTVSMS9u7",
        "colab_type": "code",
        "outputId": "3f23021c-f158-4357-de7d-4abd557a617d",
        "colab": {
          "base_uri": "https://localhost:8080/",
          "height": 286
        }
      },
      "source": [
        "plt.imshow(x_train[2].reshape(28,28))"
      ],
      "execution_count": 0,
      "outputs": [
        {
          "output_type": "execute_result",
          "data": {
            "text/plain": [
              "<matplotlib.image.AxesImage at 0x7f8670034780>"
            ]
          },
          "metadata": {
            "tags": []
          },
          "execution_count": 46
        },
        {
          "output_type": "display_data",
          "data": {
            "image/png": "[encoded data removed]",
            "text/plain": [
              "<Figure size 432x288 with 1 Axes>"
            ]
          },
          "metadata": {
            "tags": []
          }
        }
      ]
    },
    {
      "cell_type": "code",
      "metadata": {
        "id": "wWEEWUj-89Id",
        "colab_type": "code",
        "colab": {}
      },
      "source": [
        "model.add(Dense(32,activation='relu',input_shape=x_train[0].shape))\n",
        "model.add(Dense(10,activation='softmax'))\n",
        "model.add(Dense())"
      ],
      "execution_count": 0,
      "outputs": []
    },
    {
      "cell_type": "code",
      "metadata": {
        "id": "DxOYYjW4-Z58",
        "colab_type": "code",
        "outputId": "782fc94c-d878-4d5f-fa12-5e4b0397e2dc",
        "colab": {
          "base_uri": "https://localhost:8080/",
          "height": 202
        }
      },
      "source": [
        "model.summary()"
      ],
      "execution_count": 0,
      "outputs": [
        {
          "output_type": "stream",
          "text": [
            "_________________________________________________________________\n",
            "Layer (type)                 Output Shape              Param #   \n",
            "=================================================================\n",
            "dense_5 (Dense)              (None, 32)                25120     \n",
            "_________________________________________________________________\n",
            "dense_6 (Dense)              (None, 10)                330       \n",
            "=================================================================\n",
            "Total params: 25,450\n",
            "Trainable params: 25,450\n",
            "Non-trainable params: 0\n",
            "_________________________________________________________________\n"
          ],
          "name": "stdout"
        }
      ]
    },
    {
      "cell_type": "code",
      "metadata": {
        "id": "3y99pgzV-i9_",
        "colab_type": "code",
        "colab": {}
      },
      "source": [
        "model.compile(loss='sparse_categorical_crossentropy',\n",
        "              optimizer=\"adam\",\n",
        "              metrics=['accuracy'])"
      ],
      "execution_count": 0,
      "outputs": []
    },
    {
      "cell_type": "code",
      "metadata": {
        "id": "Z0s90tB0_KNT",
        "colab_type": "code",
        "outputId": "c94ce6e9-3f71-458b-b296-443291bbf1db",
        "colab": {
          "base_uri": "https://localhost:8080/",
          "height": 370
        }
      },
      "source": [
        "history = model.fit(x_train, y_train, epochs= 30, validation_split=0.2, verbose = 1)"
      ],
      "execution_count": 0,
      "outputs": [
        {
          "output_type": "stream",
          "text": [
            "Train on 48000 samples, validate on 12000 samples\n",
            "Epoch 1/10\n",
            "48000/48000 [==============================] - 6s 129us/step - loss: 0.0206 - acc: 0.9941 - val_loss: 0.1687 - val_acc: 0.9612\n",
            "Epoch 2/10\n",
            "48000/48000 [==============================] - 6s 130us/step - loss: 0.0201 - acc: 0.9940 - val_loss: 0.1585 - val_acc: 0.9633\n",
            "Epoch 3/10\n",
            "48000/48000 [==============================] - 7s 152us/step - loss: 0.0197 - acc: 0.9943 - val_loss: 0.1630 - val_acc: 0.9625\n",
            "Epoch 4/10\n",
            "48000/48000 [==============================] - 6s 132us/step - loss: 0.0174 - acc: 0.9950 - val_loss: 0.1627 - val_acc: 0.9635\n",
            "Epoch 5/10\n",
            "48000/48000 [==============================] - 6s 132us/step - loss: 0.0173 - acc: 0.9945 - val_loss: 0.1674 - val_acc: 0.9633\n",
            "Epoch 6/10\n",
            "48000/48000 [==============================] - 6s 129us/step - loss: 0.0157 - acc: 0.9954 - val_loss: 0.1765 - val_acc: 0.9605\n",
            "Epoch 7/10\n",
            "48000/48000 [==============================] - 6s 129us/step - loss: 0.0151 - acc: 0.9960 - val_loss: 0.1749 - val_acc: 0.9619\n",
            "Epoch 8/10\n",
            "48000/48000 [==============================] - 6s 131us/step - loss: 0.0148 - acc: 0.9962 - val_loss: 0.1779 - val_acc: 0.9626\n",
            "Epoch 9/10\n",
            "48000/48000 [==============================] - 6s 130us/step - loss: 0.0135 - acc: 0.9963 - val_loss: 0.1833 - val_acc: 0.9605\n",
            "Epoch 10/10\n",
            "48000/48000 [==============================] - 6s 130us/step - loss: 0.0129 - acc: 0.9965 - val_loss: 0.1776 - val_acc: 0.9616\n"
          ],
          "name": "stdout"
        }
      ]
    },
    {
      "cell_type": "code",
      "metadata": {
        "id": "IQyxDl9PO3iO",
        "colab_type": "code",
        "outputId": "5589a48f-1303-42ea-a383-5795ec6167f0",
        "colab": {
          "base_uri": "https://localhost:8080/",
          "height": 34
        }
      },
      "source": [
        "history.history.keys()"
      ],
      "execution_count": 0,
      "outputs": [
        {
          "output_type": "execute_result",
          "data": {
            "text/plain": [
              "dict_keys(['val_loss', 'val_acc', 'loss', 'acc'])"
            ]
          },
          "metadata": {
            "tags": []
          },
          "execution_count": 39
        }
      ]
    },
    {
      "cell_type": "code",
      "metadata": {
        "id": "hQmXvwsJRMHt",
        "colab_type": "code",
        "outputId": "ea0074f9-9334-44df-a5b1-22fecf5f8954",
        "colab": {
          "base_uri": "https://localhost:8080/",
          "height": 336
        }
      },
      "source": [
        "plt.plot(history.epoch, history.history['val_loss'],\n",
        "        history.epoch, history.history['val_acc'],\n",
        "        history.epoch, history.history['loss'],\n",
        "        history.epoch, history.history['acc'])"
      ],
      "execution_count": 0,
      "outputs": [
        {
          "output_type": "execute_result",
          "data": {
            "text/plain": [
              "[<matplotlib.lines.Line2D at 0x7f867baf7ef0>,\n",
              " <matplotlib.lines.Line2D at 0x7f8670357080>,\n",
              " <matplotlib.lines.Line2D at 0x7f86703573c8>,\n",
              " <matplotlib.lines.Line2D at 0x7f8670357710>]"
            ]
          },
          "metadata": {
            "tags": []
          },
          "execution_count": 40
        },
        {
          "output_type": "display_data",
          "data": {
            "image/png": "[encoded data removed]",
            "text/plain": [
              "<Figure size 432x288 with 1 Axes>"
            ]
          },
          "metadata": {
            "tags": []
          }
        }
      ]
    },
    {
      "cell_type": "code",
      "metadata": {
        "id": "JVGlG_RaR7zb",
        "colab_type": "code",
        "outputId": "131bc991-6e75-4a9d-8f6a-82f2f5de5abc",
        "colab": {
          "base_uri": "https://localhost:8080/",
          "height": 50
        }
      },
      "source": [
        "model.evaluate(x_test, y_test)"
      ],
      "execution_count": 0,
      "outputs": [
        {
          "output_type": "stream",
          "text": [
            "10000/10000 [==============================] - 1s 54us/step\n"
          ],
          "name": "stdout"
        },
        {
          "output_type": "execute_result",
          "data": {
            "text/plain": [
              "[0.15297787166800408, 0.9681]"
            ]
          },
          "metadata": {
            "tags": []
          },
          "execution_count": 41
        }
      ]
    },
    {
      "cell_type": "code",
      "metadata": {
        "id": "1-cm5VXySDyl",
        "colab_type": "code",
        "colab": {}
      },
      "source": [
        ""
      ],
      "execution_count": 0,
      "outputs": []
    }
  ]
}