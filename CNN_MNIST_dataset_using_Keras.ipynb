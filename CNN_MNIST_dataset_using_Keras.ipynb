{
  "nbformat": 4,
  "nbformat_minor": 0,
  "metadata": {
    "colab": {
      "name": "CNN: MNIST dataset using Keras.ipynb",
      "version": "0.3.2",
      "provenance": [],
      "collapsed_sections": []
    },
    "kernelspec": {
      "name": "python3",
      "display_name": "Python 3"
    },
    "accelerator": "GPU"
  },
  "cells": [
    {
      "cell_type": "code",
      "metadata": {
        "id": "zTBzYDBFjFwX",
        "colab_type": "code",
        "colab": {}
      },
      "source": [
        "from keras.datasets import mnist\n",
        "from keras.utils import to_categorical\n",
        "from keras.models import Sequential\n",
        "from keras.layers import Dense, Conv2D, Flatten\n",
        "import matplotlib.pyplot as plt"
      ],
      "execution_count": 0,
      "outputs": []
    },
    {
      "cell_type": "code",
      "metadata": {
        "id": "mTkdo6v3ja9j",
        "colab_type": "code",
        "colab": {}
      },
      "source": [
        "#loading mnist data\n",
        "(x_train, y_train), (x_test,y_test)= mnist.load_data()"
      ],
      "execution_count": 0,
      "outputs": []
    },
    {
      "cell_type": "code",
      "metadata": {
        "id": "q5caoGnijtCG",
        "colab_type": "code",
        "colab": {
          "base_uri": "https://localhost:8080/",
          "height": 286
        },
        "outputId": "ec338438-af19-4dfb-9dfd-a821afdfd1fc"
      },
      "source": [
        "plt.imshow(x_train[0])"
      ],
      "execution_count": 35,
      "outputs": [
        {
          "output_type": "execute_result",
          "data": {
            "text/plain": [
              "<matplotlib.image.AxesImage at 0x7f4f7f6bfe48>"
            ]
          },
          "metadata": {
            "tags": []
          },
          "execution_count": 35
        },
        {
          "output_type": "display_data",
          "data": {
            "image/png": "[encoded data removed]",
            "text/plain": [
              "<Figure size 432x288 with 1 Axes>"
            ]
          },
          "metadata": {
            "tags": []
          }
        }
      ]
    },
    {
      "cell_type": "code",
      "metadata": {
        "id": "U7KB7E-akFtY",
        "colab_type": "code",
        "colab": {
          "base_uri": "https://localhost:8080/",
          "height": 34
        },
        "outputId": "cc4bc511-6d44-4393-87d3-777bd0801af3"
      },
      "source": [
        "x_train[0].shape"
      ],
      "execution_count": 36,
      "outputs": [
        {
          "output_type": "execute_result",
          "data": {
            "text/plain": [
              "(28, 28)"
            ]
          },
          "metadata": {
            "tags": []
          },
          "execution_count": 36
        }
      ]
    },
    {
      "cell_type": "code",
      "metadata": {
        "id": "lDAOEqH-kU8u",
        "colab_type": "code",
        "colab": {}
      },
      "source": [
        "#reshaping to fit the model; 600000(or 10000) images, each of 28x28 pixels and 1= greyscale\n",
        "x_train = x_train.reshape(60000,28,28,1)\n",
        "x_test = x_test.reshape(10000,28,28,1)"
      ],
      "execution_count": 0,
      "outputs": []
    },
    {
      "cell_type": "code",
      "metadata": {
        "id": "NLJaMFTFlWY8",
        "colab_type": "code",
        "colab": {}
      },
      "source": [
        "#one-hot-encode target column\n",
        "#this is done to assign a value to each output- i.e., a value to each number from 0 to 9\n",
        "y_train = to_categorical(y_train)\n",
        "y_test = to_categorical(y_test)"
      ],
      "execution_count": 0,
      "outputs": []
    },
    {
      "cell_type": "code",
      "metadata": {
        "id": "X_qg7AkKmSHV",
        "colab_type": "code",
        "colab": {
          "base_uri": "https://localhost:8080/",
          "height": 34
        },
        "outputId": "c0bb18e8-ba0f-4a99-89a3-d7b6cf5150be"
      },
      "source": [
        "#checking the one-hot encoding\n",
        "#first image in the dataset is 5. Therefore, 6th array element is set to 1\n",
        "y_train[0]"
      ],
      "execution_count": 39,
      "outputs": [
        {
          "output_type": "execute_result",
          "data": {
            "text/plain": [
              "array([0., 0., 0., 0., 0., 1., 0., 0., 0., 0.], dtype=float32)"
            ]
          },
          "metadata": {
            "tags": []
          },
          "execution_count": 39
        }
      ]
    },
    {
      "cell_type": "code",
      "metadata": {
        "id": "Na5_7aEZmnUh",
        "colab_type": "code",
        "colab": {}
      },
      "source": [
        "#building the model: import Sequential, Dense, Conv2D and Flatten from keras\n",
        "\n",
        "#create a model\n",
        "model = Sequential()\n",
        "\n",
        "#add layers\n",
        "model.add(Conv2D(64, kernel_size = 3, activation = 'relu', input_shape= (28,28,1)))\n",
        "model.add(Conv2D(32, kernel_size = 3, activation = 'relu'))\n",
        "model.add(Flatten())\n",
        "model.add(Dense(10, activation = 'softmax'))"
      ],
      "execution_count": 0,
      "outputs": []
    },
    {
      "cell_type": "code",
      "metadata": {
        "id": "D0BlwwATnhj9",
        "colab_type": "code",
        "colab": {}
      },
      "source": [
        "#compileing the model;\n",
        "model.compile(optimizer = 'adam', loss = 'categorical_crossentropy', metrics = ['accuracy'])\n",
        "\n"
      ],
      "execution_count": 0,
      "outputs": []
    },
    {
      "cell_type": "code",
      "metadata": {
        "id": "gQTS-wTmq-Ls",
        "colab_type": "code",
        "colab": {
          "base_uri": "https://localhost:8080/",
          "height": 255
        },
        "outputId": "5affa52d-bf7f-486a-eb38-66f524dbdb21"
      },
      "source": [
        "model.fit(x_train, y_train, validation_data = (x_test,y_test), epochs = 3)"
      ],
      "execution_count": 42,
      "outputs": [
        {
          "output_type": "stream",
          "text": [
            "W0725 05:51:36.510897 139980729149312 deprecation.py:323] From /usr/local/lib/python3.6/dist-packages/tensorflow/python/ops/math_grad.py:1250: add_dispatch_support.<locals>.wrapper (from tensorflow.python.ops.array_ops) is deprecated and will be removed in a future version.\n",
            "Instructions for updating:\n",
            "Use tf.where in 2.0, which has the same broadcast rule as np.where\n",
            "W0725 05:51:36.563424 139980729149312 deprecation_wrapper.py:119] From /usr/local/lib/python3.6/dist-packages/keras/backend/tensorflow_backend.py:986: The name tf.assign_add is deprecated. Please use tf.compat.v1.assign_add instead.\n",
            "\n"
          ],
          "name": "stderr"
        },
        {
          "output_type": "stream",
          "text": [
            "Train on 60000 samples, validate on 10000 samples\n",
            "Epoch 1/3\n",
            "60000/60000 [==============================] - 16s 262us/step - loss: 1.3272 - acc: 0.8828 - val_loss: 0.0802 - val_acc: 0.9749\n",
            "Epoch 2/3\n",
            "60000/60000 [==============================] - 8s 139us/step - loss: 0.0674 - acc: 0.9800 - val_loss: 0.0766 - val_acc: 0.9768\n",
            "Epoch 3/3\n",
            "60000/60000 [==============================] - 8s 139us/step - loss: 0.0447 - acc: 0.9858 - val_loss: 0.0878 - val_acc: 0.9780\n"
          ],
          "name": "stdout"
        },
        {
          "output_type": "execute_result",
          "data": {
            "text/plain": [
              "<keras.callbacks.History at 0x7f4f80123470>"
            ]
          },
          "metadata": {
            "tags": []
          },
          "execution_count": 42
        }
      ]
    },
    {
      "cell_type": "code",
      "metadata": {
        "id": "xgnVeYlgrYa6",
        "colab_type": "code",
        "colab": {
          "base_uri": "https://localhost:8080/",
          "height": 168
        },
        "outputId": "1ff7ffea-1140-49d0-ab83-52eb44ccd297"
      },
      "source": [
        "#predicting the data\n",
        "model.predict(x_test[:3])"
      ],
      "execution_count": 44,
      "outputs": [
        {
          "output_type": "execute_result",
          "data": {
            "text/plain": [
              "array([[6.7642071e-07, 3.7119474e-15, 4.3441345e-05, 9.0226124e-05,\n",
              "        5.3504154e-12, 2.4280531e-11, 1.3312386e-13, 9.9986541e-01,\n",
              "        6.7850848e-08, 1.9594219e-07],\n",
              "       [1.7946310e-10, 1.2386621e-10, 1.0000000e+00, 1.1055331e-09,\n",
              "        2.2440108e-13, 1.0722343e-14, 5.9355134e-09, 1.1679728e-15,\n",
              "        8.0781393e-10, 3.0296697e-19],\n",
              "       [2.9328034e-05, 9.9627918e-01, 2.1074277e-04, 5.3501185e-07,\n",
              "        2.9852279e-05, 4.4511949e-06, 4.4899946e-07, 7.8299836e-06,\n",
              "        3.4374839e-03, 5.8114018e-08]], dtype=float32)"
            ]
          },
          "metadata": {
            "tags": []
          },
          "execution_count": 44
        }
      ]
    },
    {
      "cell_type": "code",
      "metadata": {
        "id": "X9xlBw6gsWG7",
        "colab_type": "code",
        "colab": {
          "base_uri": "https://localhost:8080/",
          "height": 67
        },
        "outputId": "09f2cae7-aacc-4aae-9783-2785a1eb43c8"
      },
      "source": [
        "#comparing the result with the actual data\n",
        "y_test[:3]"
      ],
      "execution_count": 47,
      "outputs": [
        {
          "output_type": "execute_result",
          "data": {
            "text/plain": [
              "array([[0., 0., 0., 0., 0., 0., 0., 1., 0., 0.],\n",
              "       [0., 0., 1., 0., 0., 0., 0., 0., 0., 0.],\n",
              "       [0., 1., 0., 0., 0., 0., 0., 0., 0., 0.]], dtype=float32)"
            ]
          },
          "metadata": {
            "tags": []
          },
          "execution_count": 47
        }
      ]
    },
    {
      "cell_type": "code",
      "metadata": {
        "id": "D2XAGIwLsndr",
        "colab_type": "code",
        "colab": {}
      },
      "source": [
        ""
      ],
      "execution_count": 0,
      "outputs": []
    }
  ]
}